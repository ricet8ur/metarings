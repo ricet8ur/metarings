{
 "cells": [
  {
   "cell_type": "code",
   "execution_count": 1,
   "metadata": {},
   "outputs": [
    {
     "name": "stderr",
     "output_type": "stream",
     "text": [
      "C:\\Users\\nodoteve\\AppData\\Local\\Temp\\ipykernel_10688\\1593486272.py:61: FutureWarning: In a future version of pandas all arguments of DataFrame.pivot will be keyword-only.\n",
      "  a:DataFrame = df.pivot(y_name, x_name, \"v\")\n"
     ]
    },
    {
     "ename": "ValueError",
     "evalue": "Index contains duplicate entries, cannot reshape",
     "output_type": "error",
     "traceback": [
      "\u001b[1;31m---------------------------------------------------------------------------\u001b[0m",
      "\u001b[1;31mValueError\u001b[0m                                Traceback (most recent call last)",
      "Cell \u001b[1;32mIn [1], line 72\u001b[0m\n\u001b[0;32m     69\u001b[0m     plt\u001b[39m.\u001b[39msavefig(filename\u001b[39m.\u001b[39mreplace(\u001b[39m\"\u001b[39m\u001b[39m.txt\u001b[39m\u001b[39m\"\u001b[39m, \u001b[39m\"\u001b[39m\u001b[39m\"\u001b[39m) \u001b[39m+\u001b[39m\u001b[39m\"\u001b[39m\u001b[39m_heatmap_\u001b[39m\u001b[39m\"\u001b[39m\u001b[39m+\u001b[39mtitle \u001b[39m+\u001b[39m \u001b[39m\"\u001b[39m\u001b[39m.png\u001b[39m\u001b[39m\"\u001b[39m,bbox_inches\u001b[39m=\u001b[39m\u001b[39m'\u001b[39m\u001b[39mtight\u001b[39m\u001b[39m'\u001b[39m)\n\u001b[0;32m     70\u001b[0m     plt\u001b[39m.\u001b[39mshow()\n\u001b[1;32m---> 72\u001b[0m draw(get_and_apply_f(np\u001b[39m.\u001b[39;49mmean), \u001b[39m\"\u001b[39;49m\u001b[39mmean\u001b[39;49m\u001b[39m\"\u001b[39;49m)\n",
      "Cell \u001b[1;32mIn [1], line 61\u001b[0m, in \u001b[0;36mdraw\u001b[1;34m(data, name)\u001b[0m\n\u001b[0;32m     59\u001b[0m df[y_name]\u001b[39m=\u001b[39mdf[y_name]\u001b[39m.\u001b[39mround(\u001b[39m3\u001b[39m)\n\u001b[0;32m     60\u001b[0m \u001b[39m# print(df[x_name],df[y_name])\u001b[39;00m\n\u001b[1;32m---> 61\u001b[0m a:DataFrame \u001b[39m=\u001b[39m df\u001b[39m.\u001b[39;49mpivot(y_name, x_name, \u001b[39m\"\u001b[39;49m\u001b[39mv\u001b[39;49m\u001b[39m\"\u001b[39;49m)\n\u001b[0;32m     62\u001b[0m a \u001b[39m=\u001b[39m a\u001b[39m.\u001b[39mreindex(a\u001b[39m.\u001b[39msort_values(by\u001b[39m=\u001b[39my_name, ascending\u001b[39m=\u001b[39m\u001b[39mFalse\u001b[39;00m)\u001b[39m.\u001b[39mindex)\n\u001b[0;32m     64\u001b[0m \u001b[39mprint\u001b[39m(a)\n",
      "File \u001b[1;32m~\\AppData\\Roaming\\Python\\Python38\\site-packages\\pandas\\util\\_decorators.py:331\u001b[0m, in \u001b[0;36mdeprecate_nonkeyword_arguments.<locals>.decorate.<locals>.wrapper\u001b[1;34m(*args, **kwargs)\u001b[0m\n\u001b[0;32m    325\u001b[0m \u001b[39mif\u001b[39;00m \u001b[39mlen\u001b[39m(args) \u001b[39m>\u001b[39m num_allow_args:\n\u001b[0;32m    326\u001b[0m     warnings\u001b[39m.\u001b[39mwarn(\n\u001b[0;32m    327\u001b[0m         msg\u001b[39m.\u001b[39mformat(arguments\u001b[39m=\u001b[39m_format_argument_list(allow_args)),\n\u001b[0;32m    328\u001b[0m         \u001b[39mFutureWarning\u001b[39;00m,\n\u001b[0;32m    329\u001b[0m         stacklevel\u001b[39m=\u001b[39mfind_stack_level(),\n\u001b[0;32m    330\u001b[0m     )\n\u001b[1;32m--> 331\u001b[0m \u001b[39mreturn\u001b[39;00m func(\u001b[39m*\u001b[39;49margs, \u001b[39m*\u001b[39;49m\u001b[39m*\u001b[39;49mkwargs)\n",
      "File \u001b[1;32m~\\AppData\\Roaming\\Python\\Python38\\site-packages\\pandas\\core\\frame.py:8554\u001b[0m, in \u001b[0;36mDataFrame.pivot\u001b[1;34m(self, index, columns, values)\u001b[0m\n\u001b[0;32m   8548\u001b[0m \u001b[39m@Substitution\u001b[39m(\u001b[39m\"\u001b[39m\u001b[39m\"\u001b[39m)\n\u001b[0;32m   8549\u001b[0m \u001b[39m@Appender\u001b[39m(_shared_docs[\u001b[39m\"\u001b[39m\u001b[39mpivot\u001b[39m\u001b[39m\"\u001b[39m])\n\u001b[0;32m   8550\u001b[0m \u001b[39m@deprecate_nonkeyword_arguments\u001b[39m(version\u001b[39m=\u001b[39m\u001b[39mNone\u001b[39;00m, allowed_args\u001b[39m=\u001b[39m[\u001b[39m\"\u001b[39m\u001b[39mself\u001b[39m\u001b[39m\"\u001b[39m])\n\u001b[0;32m   8551\u001b[0m \u001b[39mdef\u001b[39;00m \u001b[39mpivot\u001b[39m(\u001b[39mself\u001b[39m, index\u001b[39m=\u001b[39m\u001b[39mNone\u001b[39;00m, columns\u001b[39m=\u001b[39m\u001b[39mNone\u001b[39;00m, values\u001b[39m=\u001b[39m\u001b[39mNone\u001b[39;00m) \u001b[39m-\u001b[39m\u001b[39m>\u001b[39m DataFrame:\n\u001b[0;32m   8552\u001b[0m     \u001b[39mfrom\u001b[39;00m \u001b[39mpandas\u001b[39;00m\u001b[39m.\u001b[39;00m\u001b[39mcore\u001b[39;00m\u001b[39m.\u001b[39;00m\u001b[39mreshape\u001b[39;00m\u001b[39m.\u001b[39;00m\u001b[39mpivot\u001b[39;00m \u001b[39mimport\u001b[39;00m pivot\n\u001b[1;32m-> 8554\u001b[0m     \u001b[39mreturn\u001b[39;00m pivot(\u001b[39mself\u001b[39;49m, index\u001b[39m=\u001b[39;49mindex, columns\u001b[39m=\u001b[39;49mcolumns, values\u001b[39m=\u001b[39;49mvalues)\n",
      "File \u001b[1;32m~\\AppData\\Roaming\\Python\\Python38\\site-packages\\pandas\\util\\_decorators.py:331\u001b[0m, in \u001b[0;36mdeprecate_nonkeyword_arguments.<locals>.decorate.<locals>.wrapper\u001b[1;34m(*args, **kwargs)\u001b[0m\n\u001b[0;32m    325\u001b[0m \u001b[39mif\u001b[39;00m \u001b[39mlen\u001b[39m(args) \u001b[39m>\u001b[39m num_allow_args:\n\u001b[0;32m    326\u001b[0m     warnings\u001b[39m.\u001b[39mwarn(\n\u001b[0;32m    327\u001b[0m         msg\u001b[39m.\u001b[39mformat(arguments\u001b[39m=\u001b[39m_format_argument_list(allow_args)),\n\u001b[0;32m    328\u001b[0m         \u001b[39mFutureWarning\u001b[39;00m,\n\u001b[0;32m    329\u001b[0m         stacklevel\u001b[39m=\u001b[39mfind_stack_level(),\n\u001b[0;32m    330\u001b[0m     )\n\u001b[1;32m--> 331\u001b[0m \u001b[39mreturn\u001b[39;00m func(\u001b[39m*\u001b[39;49margs, \u001b[39m*\u001b[39;49m\u001b[39m*\u001b[39;49mkwargs)\n",
      "File \u001b[1;32m~\\AppData\\Roaming\\Python\\Python38\\site-packages\\pandas\\core\\reshape\\pivot.py:528\u001b[0m, in \u001b[0;36mpivot\u001b[1;34m(data, index, columns, values)\u001b[0m\n\u001b[0;32m    524\u001b[0m         indexed \u001b[39m=\u001b[39m data\u001b[39m.\u001b[39m_constructor_sliced(data[values]\u001b[39m.\u001b[39m_values, index\u001b[39m=\u001b[39mmultiindex)\n\u001b[0;32m    525\u001b[0m \u001b[39m# error: Argument 1 to \"unstack\" of \"DataFrame\" has incompatible type \"Union\u001b[39;00m\n\u001b[0;32m    526\u001b[0m \u001b[39m# [List[Any], ExtensionArray, ndarray[Any, Any], Index, Series]\"; expected\u001b[39;00m\n\u001b[0;32m    527\u001b[0m \u001b[39m# \"Hashable\"\u001b[39;00m\n\u001b[1;32m--> 528\u001b[0m \u001b[39mreturn\u001b[39;00m indexed\u001b[39m.\u001b[39;49munstack(columns_listlike)\n",
      "File \u001b[1;32m~\\AppData\\Roaming\\Python\\Python38\\site-packages\\pandas\\core\\series.py:4455\u001b[0m, in \u001b[0;36mSeries.unstack\u001b[1;34m(self, level, fill_value)\u001b[0m\n\u001b[0;32m   4412\u001b[0m \u001b[39m\"\"\"\u001b[39;00m\n\u001b[0;32m   4413\u001b[0m \u001b[39mUnstack, also known as pivot, Series with MultiIndex to produce DataFrame.\u001b[39;00m\n\u001b[0;32m   4414\u001b[0m \n\u001b[1;32m   (...)\u001b[0m\n\u001b[0;32m   4451\u001b[0m \u001b[39mb    2    4\u001b[39;00m\n\u001b[0;32m   4452\u001b[0m \u001b[39m\"\"\"\u001b[39;00m\n\u001b[0;32m   4453\u001b[0m \u001b[39mfrom\u001b[39;00m \u001b[39mpandas\u001b[39;00m\u001b[39m.\u001b[39;00m\u001b[39mcore\u001b[39;00m\u001b[39m.\u001b[39;00m\u001b[39mreshape\u001b[39;00m\u001b[39m.\u001b[39;00m\u001b[39mreshape\u001b[39;00m \u001b[39mimport\u001b[39;00m unstack\n\u001b[1;32m-> 4455\u001b[0m \u001b[39mreturn\u001b[39;00m unstack(\u001b[39mself\u001b[39;49m, level, fill_value)\n",
      "File \u001b[1;32m~\\AppData\\Roaming\\Python\\Python38\\site-packages\\pandas\\core\\reshape\\reshape.py:489\u001b[0m, in \u001b[0;36munstack\u001b[1;34m(obj, level, fill_value)\u001b[0m\n\u001b[0;32m    487\u001b[0m \u001b[39mif\u001b[39;00m is_1d_only_ea_dtype(obj\u001b[39m.\u001b[39mdtype):\n\u001b[0;32m    488\u001b[0m     \u001b[39mreturn\u001b[39;00m _unstack_extension_series(obj, level, fill_value)\n\u001b[1;32m--> 489\u001b[0m unstacker \u001b[39m=\u001b[39m _Unstacker(\n\u001b[0;32m    490\u001b[0m     obj\u001b[39m.\u001b[39;49mindex, level\u001b[39m=\u001b[39;49mlevel, constructor\u001b[39m=\u001b[39;49mobj\u001b[39m.\u001b[39;49m_constructor_expanddim\n\u001b[0;32m    491\u001b[0m )\n\u001b[0;32m    492\u001b[0m \u001b[39mreturn\u001b[39;00m unstacker\u001b[39m.\u001b[39mget_result(\n\u001b[0;32m    493\u001b[0m     obj\u001b[39m.\u001b[39m_values, value_columns\u001b[39m=\u001b[39m\u001b[39mNone\u001b[39;00m, fill_value\u001b[39m=\u001b[39mfill_value\n\u001b[0;32m    494\u001b[0m )\n",
      "File \u001b[1;32m~\\AppData\\Roaming\\Python\\Python38\\site-packages\\pandas\\core\\reshape\\reshape.py:137\u001b[0m, in \u001b[0;36m_Unstacker.__init__\u001b[1;34m(self, index, level, constructor)\u001b[0m\n\u001b[0;32m    129\u001b[0m \u001b[39mif\u001b[39;00m num_cells \u001b[39m>\u001b[39m np\u001b[39m.\u001b[39miinfo(np\u001b[39m.\u001b[39mint32)\u001b[39m.\u001b[39mmax:\n\u001b[0;32m    130\u001b[0m     warnings\u001b[39m.\u001b[39mwarn(\n\u001b[0;32m    131\u001b[0m         \u001b[39mf\u001b[39m\u001b[39m\"\u001b[39m\u001b[39mThe following operation may generate \u001b[39m\u001b[39m{\u001b[39;00mnum_cells\u001b[39m}\u001b[39;00m\u001b[39m cells \u001b[39m\u001b[39m\"\u001b[39m\n\u001b[0;32m    132\u001b[0m         \u001b[39mf\u001b[39m\u001b[39m\"\u001b[39m\u001b[39min the resulting pandas object.\u001b[39m\u001b[39m\"\u001b[39m,\n\u001b[0;32m    133\u001b[0m         PerformanceWarning,\n\u001b[0;32m    134\u001b[0m         stacklevel\u001b[39m=\u001b[39mfind_stack_level(),\n\u001b[0;32m    135\u001b[0m     )\n\u001b[1;32m--> 137\u001b[0m \u001b[39mself\u001b[39;49m\u001b[39m.\u001b[39;49m_make_selectors()\n",
      "File \u001b[1;32m~\\AppData\\Roaming\\Python\\Python38\\site-packages\\pandas\\core\\reshape\\reshape.py:189\u001b[0m, in \u001b[0;36m_Unstacker._make_selectors\u001b[1;34m(self)\u001b[0m\n\u001b[0;32m    186\u001b[0m mask\u001b[39m.\u001b[39mput(selector, \u001b[39mTrue\u001b[39;00m)\n\u001b[0;32m    188\u001b[0m \u001b[39mif\u001b[39;00m mask\u001b[39m.\u001b[39msum() \u001b[39m<\u001b[39m \u001b[39mlen\u001b[39m(\u001b[39mself\u001b[39m\u001b[39m.\u001b[39mindex):\n\u001b[1;32m--> 189\u001b[0m     \u001b[39mraise\u001b[39;00m \u001b[39mValueError\u001b[39;00m(\u001b[39m\"\u001b[39m\u001b[39mIndex contains duplicate entries, cannot reshape\u001b[39m\u001b[39m\"\u001b[39m)\n\u001b[0;32m    191\u001b[0m \u001b[39mself\u001b[39m\u001b[39m.\u001b[39mgroup_index \u001b[39m=\u001b[39m comp_index\n\u001b[0;32m    192\u001b[0m \u001b[39mself\u001b[39m\u001b[39m.\u001b[39mmask \u001b[39m=\u001b[39m mask\n",
      "\u001b[1;31mValueError\u001b[0m: Index contains duplicate entries, cannot reshape"
     ]
    }
   ],
   "source": [
    "# Program to plot 2-D Heat map\n",
    "# using seaborn.heatmap() method\n",
    "import numpy as np\n",
    "import seaborn as sns\n",
    "import matplotlib.pylab as plt\n",
    "# rings1 - PEC rings simple lattice\n",
    "# rings2 - copper rings simple lattice\n",
    "# rings3 - copper rings 2 layer lattice with shift in direction of x axis\n",
    "\n",
    "filename = \"../rings_tetra3/rings_tetra3_test_mu(a,b)_wide.txt\"\n",
    "x_name = \"a\"\n",
    "y_name = \"b\"\n",
    "\n",
    "# data in the form of list of tuples\n",
    "def get_and_apply_f(func):\n",
    "    data_set = []\n",
    "    with open(filename) as f:\n",
    "        lines = f.readlines()\n",
    "        for line_id in range(len(lines)):\n",
    "            line = lines[line_id]\n",
    "            if line[0] == \"#\":\n",
    "                if line[1] == \"P\":\n",
    "\n",
    "                    def read_param(name):\n",
    "                        id = line.find(name + \"=\")\n",
    "                        id_of_semicolon = line.find(\";\", id)\n",
    "                        id_of_semicolon = (\n",
    "                            id_of_semicolon if id_of_semicolon > 0 else len(line)\n",
    "                        )\n",
    "                        p = line[\n",
    "                            id + len(name) + 1 : min(id_of_semicolon, line.find(\"}\", id))\n",
    "                        ]\n",
    "                        return float(p)\n",
    "\n",
    "                    x = read_param(x_name)\n",
    "                    y = read_param(y_name)\n",
    "\n",
    "                    # find avg of mu for all freq for given x, y\n",
    "                    vals = []\n",
    "                    for id in range(line_id + 1, len(lines)):\n",
    "                        line = lines[id]\n",
    "                        if line[0] == \"#\":\n",
    "                            if line[1] == \"P\":\n",
    "                                break\n",
    "                        else:\n",
    "                            tuple_of_vals = [float(x) for x in line.split()]\n",
    "                            vals.append(tuple_of_vals[1])\n",
    "                    data_set.append((x, y, func(vals)))\n",
    "    return data_set\n",
    "\n",
    "# reformat data for drawing\n",
    "import pandas as pd\n",
    "from pandas import DataFrame\n",
    "\n",
    "# create DataFrame using data\n",
    "def draw(data, name):\n",
    "    df = pd.DataFrame(data, columns=[x_name, y_name, \"v\"])\n",
    "    df[x_name]=df[x_name].round(3)\n",
    "    df[y_name]=df[y_name].round(3)\n",
    "    # print(df[x_name],df[y_name])\n",
    "    a:DataFrame = df.pivot(y_name, x_name, \"v\")\n",
    "    a = a.reindex(a.sort_values(by=y_name, ascending=False).index)\n",
    "\n",
    "    print(a)\n",
    "    ax = sns.heatmap(a, linewidth=0.5, cmap=\"coolwarm\")\n",
    "\n",
    "    title = name+\"_mu(\" + x_name + \", \" + y_name + \")\"\n",
    "    plt.title(title)\n",
    "    plt.savefig(filename.replace(\".txt\", \"\") +\"_heatmap_\"+title + \".png\",bbox_inches='tight')\n",
    "    plt.show()\n",
    "\n",
    "draw(get_and_apply_f(np.mean), \"mean\")\n",
    "# draw(get_and_apply_f(np.min),\"min\")\n",
    "# draw(get_and_apply_f(np.max),\"max\")"
   ]
  }
 ],
 "metadata": {
  "kernelspec": {
   "display_name": "Python 3.8.10 64-bit",
   "language": "python",
   "name": "python3"
  },
  "language_info": {
   "codemirror_mode": {
    "name": "ipython",
    "version": 3
   },
   "file_extension": ".py",
   "mimetype": "text/x-python",
   "name": "python",
   "nbconvert_exporter": "python",
   "pygments_lexer": "ipython3",
   "version": "3.8.10"
  },
  "orig_nbformat": 4,
  "vscode": {
   "interpreter": {
    "hash": "0a1ec7792b32fe949dc486f76d9d0afd77b95445a288bd90a84b1c74d8c8264b"
   }
  }
 },
 "nbformat": 4,
 "nbformat_minor": 2
}
