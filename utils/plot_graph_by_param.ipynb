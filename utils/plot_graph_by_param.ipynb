{
 "cells": [
  {
   "cell_type": "code",
   "execution_count": 2,
   "metadata": {},
   "outputs": [
    {
     "name": "stderr",
     "output_type": "stream",
     "text": [
      "C:\\Users\\nodoteve\\AppData\\Local\\Temp\\ipykernel_4664\\1700430495.py:62: FutureWarning: In a future version of pandas all arguments of DataFrame.pivot will be keyword-only.\n",
      "  a:DataFrame = df.pivot(x_name, y_name, \"v\")\n"
     ]
    },
    {
     "name": "stdout",
     "output_type": "stream",
     "text": [
      "mu           mu\n",
      "a2             \n",
      "1.050  0.164897\n",
      "1.205  0.193017\n",
      "1.361  0.219822\n",
      "1.516  0.249940\n",
      "1.671  0.293080\n",
      "1.826  0.272027\n",
      "1.982  0.311310\n",
      "2.137  0.352122\n",
      "2.292  0.344629\n",
      "2.447  0.429963\n",
      "2.603  0.473430\n",
      "2.758  0.491191\n",
      "2.913  0.521138\n",
      "3.068  0.543534\n",
      "3.224  0.577922\n",
      "3.379  0.583816\n",
      "3.534  0.612632\n",
      "3.689  0.621062\n",
      "3.845  0.642174\n",
      "4.000  0.656506\n"
     ]
    },
    {
     "data": {
      "image/png": "[encoded data removed]",
      "text/plain": [
       "<Figure size 640x480 with 1 Axes>"
      ]
     },
     "metadata": {},
     "output_type": "display_data"
    }
   ],
   "source": [
    "# Program to plot 2-D Heat map\n",
    "# using seaborn.heatmap() method\n",
    "import numpy as np\n",
    "import seaborn as sns\n",
    "import matplotlib.pylab as plt\n",
    "# rings1 - PEC rings simple lattice\n",
    "# rings2 - copper rings simple lattice\n",
    "# rings3 - copper rings 2 layer lattice with shift in direction of x axis\n",
    "\n",
    "filename = \"../rings_hexa3/nonrings/wide_range2.txt\"\n",
    "x_name = \"a2\"\n",
    "y_name = \"mu\"\n",
    "\n",
    "# data in the form of list of tuples\n",
    "def get_and_apply_f(func):\n",
    "    data_set = []\n",
    "    with open(filename) as f:\n",
    "        lines = f.readlines()\n",
    "        for line_id in range(len(lines)):\n",
    "            line = lines[line_id]\n",
    "            if line[0] == \"#\":\n",
    "                if line[1] == \"P\":\n",
    "\n",
    "                    def read_param(name):\n",
    "                        id = line.find(name + \"=\")\n",
    "                        id_of_semicolon = line.find(\";\", id)\n",
    "                        id_of_semicolon = (\n",
    "                            id_of_semicolon if id_of_semicolon > 0 else len(line)\n",
    "                        )\n",
    "                        p = line[\n",
    "                            id + len(name) + 1 : min(id_of_semicolon, line.find(\"}\", id))\n",
    "                        ]\n",
    "                        return float(p)\n",
    "\n",
    "                    x = read_param(x_name)\n",
    "                    y = \"mu\"\n",
    "\n",
    "                    # find avg of mu for all freq for given x, y\n",
    "                    vals = []\n",
    "                    for id in range(line_id + 1, len(lines)):\n",
    "                        line = lines[id]\n",
    "                        if line[0] == \"#\":\n",
    "                            if line[1] == \"P\":\n",
    "                                break\n",
    "                        else:\n",
    "                            tuple_of_vals = [float(x) for x in line.split()]\n",
    "                            vals.append(tuple_of_vals[1])\n",
    "                    data_set.append((x, y, func(vals)))\n",
    "    return data_set\n",
    "\n",
    "# reformat data for drawing\n",
    "import pandas as pd\n",
    "from pandas import DataFrame\n",
    "\n",
    "# create DataFrame using data\n",
    "def draw(data, name):\n",
    "    df = pd.DataFrame(data, columns=[x_name, y_name, \"v\"])\n",
    "    df[x_name]=df[x_name].round(3)\n",
    "    # print(df.drop_duplicates())\n",
    "    # df[y_name]=df[y_name].round(3)\n",
    "    # print(df[x_name],df[y_name])\n",
    "    a:DataFrame = df.pivot(x_name, y_name, \"v\")\n",
    "    # a = a.reindex(a.sort_values(by=y_name, ascending=False).index)\n",
    "\n",
    "    print(a)\n",
    "    ax = sns.scatterplot(a)\n",
    "    # ax = sns.lineplot(a)\n",
    "    # ax = sns.heatmap(a, linewidth=0.5, cmap=\"coolwarm\")\n",
    "\n",
    "    title = name+\"_mu(\" + x_name+\")\"\n",
    "    plt.title(title)\n",
    "    plt.savefig(filename.replace(\".txt\", \"\") +\"_\"+ title+ \".png\",bbox_inches='tight',)\n",
    "    plt.show()\n",
    "\n",
    "draw(get_and_apply_f(np.mean), \"mean\")\n",
    "# draw(get_and_apply_f(np.min),\"min\")\n",
    "# draw(get_and_apply_f(np.max),\"max\")"
   ]
  }
 ],
 "metadata": {
  "kernelspec": {
   "display_name": "Python 3.8.10 64-bit",
   "language": "python",
   "name": "python3"
  },
  "language_info": {
   "codemirror_mode": {
    "name": "ipython",
    "version": 3
   },
   "file_extension": ".py",
   "mimetype": "text/x-python",
   "name": "python",
   "nbconvert_exporter": "python",
   "pygments_lexer": "ipython3",
   "version": "3.8.10"
  },
  "orig_nbformat": 4,
  "vscode": {
   "interpreter": {
    "hash": "0a1ec7792b32fe949dc486f76d9d0afd77b95445a288bd90a84b1c74d8c8264b"
   }
  }
 },
 "nbformat": 4,
 "nbformat_minor": 2
}
