{
 "cells": [
  {
   "cell_type": "code",
   "execution_count": 3,
   "metadata": {},
   "outputs": [
    {
     "name": "stderr",
     "output_type": "stream",
     "text": [
      "C:\\Users\\nodoteve\\AppData\\Local\\Temp\\ipykernel_4664\\2864797862.py:62: FutureWarning: In a future version of pandas all arguments of DataFrame.pivot will be keyword-only.\n",
      "  a:DataFrame = df.pivot(x_name, y_name, \"v\")\n"
     ]
    },
    {
     "name": "stdout",
     "output_type": "stream",
     "text": [
      "mu           mu\n",
      "a2             \n",
      "1.050  0.370716\n",
      "1.205  0.470199\n",
      "1.361  0.528435\n",
      "1.516  0.575465\n",
      "1.671  0.614693\n",
      "1.826  0.627391\n",
      "1.982  0.670009\n",
      "2.137  0.706843\n",
      "2.292  0.738749\n",
      "2.447  0.764843\n",
      "2.603  0.787751\n",
      "2.758  0.806528\n",
      "2.913  0.823725\n",
      "3.068  0.837926\n",
      "3.224  0.850078\n",
      "3.379  0.861927\n",
      "3.534  0.872573\n",
      "3.689  0.880574\n",
      "3.845  0.888663\n",
      "4.000  0.894359\n"
     ]
    },
    {
     "data": {
      "image/png": "[encoded data removed]",
      "text/plain": [
       "<Figure size 640x480 with 1 Axes>"
      ]
     },
     "metadata": {},
     "output_type": "display_data"
    }
   ],
   "source": [
    "# Program to plot 2-D Heat map\n",
    "# using seaborn.heatmap() method\n",
    "import numpy as np\n",
    "import seaborn as sns\n",
    "import matplotlib.pylab as plt\n",
    "# rings1 - PEC rings simple lattice\n",
    "# rings2 - copper rings simple lattice\n",
    "# rings3 - copper rings 2 layer lattice with shift in direction of x axis\n",
    "\n",
    "filename = \"../rings_hexa3/wide_range1.txt\"\n",
    "x_name = \"a2\"\n",
    "y_name = \"mu\"\n",
    "\n",
    "# data in the form of list of tuples\n",
    "def get_and_apply_f(func):\n",
    "    data_set = []\n",
    "    with open(filename) as f:\n",
    "        lines = f.readlines()\n",
    "        for line_id in range(len(lines)):\n",
    "            line = lines[line_id]\n",
    "            if line[0] == \"#\":\n",
    "                if line[1] == \"P\":\n",
    "\n",
    "                    def read_param(name):\n",
    "                        id = line.find(name + \"=\")\n",
    "                        id_of_semicolon = line.find(\";\", id)\n",
    "                        id_of_semicolon = (\n",
    "                            id_of_semicolon if id_of_semicolon > 0 else len(line)\n",
    "                        )\n",
    "                        p = line[\n",
    "                            id + len(name) + 1 : min(id_of_semicolon, line.find(\"}\", id))\n",
    "                        ]\n",
    "                        return float(p)\n",
    "\n",
    "                    x = read_param(x_name)\n",
    "                    y = \"mu\"\n",
    "\n",
    "                    # find avg of mu for all freq for given x, y\n",
    "                    vals = []\n",
    "                    for id in range(line_id + 1, len(lines)):\n",
    "                        line = lines[id]\n",
    "                        if line[0] == \"#\":\n",
    "                            if line[1] == \"P\":\n",
    "                                break\n",
    "                        else:\n",
    "                            tuple_of_vals = [float(x) for x in line.split()]\n",
    "                            vals.append(tuple_of_vals[1])\n",
    "                    data_set.append((x, y, func(vals)))\n",
    "    return data_set\n",
    "\n",
    "# reformat data for drawing\n",
    "import pandas as pd\n",
    "from pandas import DataFrame\n",
    "\n",
    "# create DataFrame using data\n",
    "def draw(data, name):\n",
    "    df = pd.DataFrame(data, columns=[x_name, y_name, \"v\"])\n",
    "    df[x_name]=df[x_name].round(3)\n",
    "    # print(df.drop_duplicates())\n",
    "    # df[y_name]=df[y_name].round(3)\n",
    "    # print(df[x_name],df[y_name])\n",
    "    a:DataFrame = df.pivot(x_name, y_name, \"v\")\n",
    "    # a = a.reindex(a.sort_values(by=y_name, ascending=False).index)\n",
    "\n",
    "    print(a)\n",
    "    ax = sns.scatterplot(a)\n",
    "    # ax = sns.lineplot(a)\n",
    "    # ax = sns.heatmap(a, linewidth=0.5, cmap=\"coolwarm\")\n",
    "\n",
    "    title = name+\"_mu(\" + x_name+\")\"\n",
    "    plt.title(title)\n",
    "    plt.savefig(filename.replace(\".txt\", \"\") +\"_\"+ title+ \".png\",bbox_inches='tight',)\n",
    "    plt.show()\n",
    "\n",
    "draw(get_and_apply_f(np.mean), \"mean\")\n",
    "# draw(get_and_apply_f(np.min),\"min\")\n",
    "# draw(get_and_apply_f(np.max),\"max\")"
   ]
  }
 ],
 "metadata": {
  "kernelspec": {
   "display_name": "Python 3.8.10 64-bit",
   "language": "python",
   "name": "python3"
  },
  "language_info": {
   "codemirror_mode": {
    "name": "ipython",
    "version": 3
   },
   "file_extension": ".py",
   "mimetype": "text/x-python",
   "name": "python",
   "nbconvert_exporter": "python",
   "pygments_lexer": "ipython3",
   "version": "3.8.10"
  },
  "orig_nbformat": 4,
  "vscode": {
   "interpreter": {
    "hash": "0a1ec7792b32fe949dc486f76d9d0afd77b95445a288bd90a84b1c74d8c8264b"
   }
  }
 },
 "nbformat": 4,
 "nbformat_minor": 2
}
