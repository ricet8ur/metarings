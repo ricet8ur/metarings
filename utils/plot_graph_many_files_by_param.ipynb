{
 "cells": [
  {
   "cell_type": "code",
   "execution_count": 12,
   "metadata": {},
   "outputs": [
    {
     "name": "stderr",
     "output_type": "stream",
     "text": [
      "C:\\Users\\nodoteve\\AppData\\Local\\Temp\\ipykernel_5696\\290079468.py:72: FutureWarning: In a future version of pandas all arguments of DataFrame.pivot will be keyword-only.\n",
      "  a:DataFrame = df.pivot(colname,'1','v')\n"
     ]
    },
    {
     "name": "stdout",
     "output_type": "stream",
     "text": [
      "1                 Mu_r [Real Part]\n",
      "Mu_r [Real Part]                  \n",
      "1                         0.115857\n",
      "2                         0.148481\n",
      "3                         0.121793\n",
      "4                         0.151451\n",
      "5                         0.136399\n"
     ]
    },
    {
     "data": {
      "image/png": "[encoded data removed]",
      "text/plain": [
       "<Figure size 640x480 with 1 Axes>"
      ]
     },
     "metadata": {},
     "output_type": "display_data"
    }
   ],
   "source": [
    "# Program to plot 2-D Heat map\n",
    "# using seaborn.heatmap() method\n",
    "import numpy as np\n",
    "import seaborn as sns\n",
    "import matplotlib.pylab as plt\n",
    "# rings1 - PEC rings simple lattice\n",
    "# rings2 - copper rings simple lattice\n",
    "# rings3 - copper rings 2 layer lattice with shift in direction of x axis\n",
    "\n",
    "filename_template = \"../rings5/mesh_impact/mesh_impact_\"\n",
    "exclude=(\"Epsilon_r [Real Part]\",\"ExpTerm [Real Part]\",\"S2,1 [Real Part]\",\"n [Real Part]\")\n",
    "include=(\"Mu_r [Real Part]\")\n",
    "# data in the form of list of tuples\n",
    "def get_and_apply_f(func):\n",
    "    data_set = []\n",
    "    for file_n in range(1,1000):\n",
    "        filename= filename_template+str(file_n)+\".txt\"\n",
    "        import os.path\n",
    "\n",
    "        file_exists = os.path.exists(filename)\n",
    "        if not file_exists:\n",
    "            break\n",
    "        with open(filename) as f:\n",
    "            lines = f.readlines()\n",
    "            for line_id in range(len(lines)):\n",
    "                line = lines[line_id]\n",
    "                if line[0] == \"#\":\n",
    "                    if line[1] == '\\\"':\n",
    "                        def read_param(name):\n",
    "                            id = line.find(name + \"=\")\n",
    "                            id_of_semicolon = line.find(\";\", id)\n",
    "                            id_of_semicolon = (\n",
    "                                id_of_semicolon if id_of_semicolon > 0 else len(line)\n",
    "                            )\n",
    "                            p = line[\n",
    "                                id + len(name) + 1 : min(id_of_semicolon, line.find(\"}\", id))\n",
    "                            ]\n",
    "                            return float(p)\n",
    "                        w=(line.find((\"\\\"\"),(line.find((\"\\\"\"),2)+1)+1))\n",
    "                        value_name = line[w+1:line.find(\"\\\"\",w+1)]\n",
    "\n",
    "                        vals = []\n",
    "                        for id in range(line_id + 1, len(lines)):\n",
    "                            line = lines[id]\n",
    "                            if line[0] == \"#\":\n",
    "                                if line[1] == \"P\":\n",
    "                                    break\n",
    "                            else:\n",
    "                                tuple_of_vals = [float(x) for x in line.split()]\n",
    "                                vals.append(tuple_of_vals[1])\n",
    "                        if len(include) == 0:\n",
    "                            if value_name not in exclude:\n",
    "                                data_set.append((file_n, value_name, func(vals)))\n",
    "                        else:\n",
    "                            if value_name in include:\n",
    "                                data_set.append((file_n, value_name, func(vals)))\n",
    "    return data_set\n",
    "\n",
    "# reformat data for drawing\n",
    "import pandas as pd\n",
    "from pandas import DataFrame\n",
    "\n",
    "# create DataFrame using data\n",
    "def draw(data, name):\n",
    "    colname='Mu_r [Real Part]'\n",
    "    df = pd.DataFrame(data, columns=[colname,'1','v'])\n",
    "    # df[x_name]=df[x_name].round(3)\n",
    "    # df[y_name]=df[y_name].round(3)\n",
    "    # print(df[x_name],df[y_name])\n",
    "    # print(df)\n",
    "\n",
    "    a:DataFrame = df.pivot(colname,'1','v')\n",
    "    # a = a.reindex(a.sort_values(by=y_name, ascending=False).index)\n",
    "\n",
    "    print(a)\n",
    "    ax = sns.scatterplot(a)\n",
    "    plt.xlabel('№')\n",
    "    ax.set_xticks(range(1,6)) # <--- set the ticks first\n",
    "\n",
    "    title = name+\"_all_params \"+include\n",
    "    plt.title(title)\n",
    "    plt.savefig(filename_template.replace(\".txt\", \"\") +\"_heatmap_\"+title + \".png\",bbox_inches='tight')\n",
    "    plt.show()\n",
    "\n",
    "# draw(get_and_apply_f(np.mean), \"mean\")\n",
    "draw(get_and_apply_f(np.median), \"meadian\")\n"
   ]
  }
 ],
 "metadata": {
  "kernelspec": {
   "display_name": "Python 3.8.10 64-bit",
   "language": "python",
   "name": "python3"
  },
  "language_info": {
   "codemirror_mode": {
    "name": "ipython",
    "version": 3
   },
   "file_extension": ".py",
   "mimetype": "text/x-python",
   "name": "python",
   "nbconvert_exporter": "python",
   "pygments_lexer": "ipython3",
   "version": "3.8.10"
  },
  "orig_nbformat": 4,
  "vscode": {
   "interpreter": {
    "hash": "0a1ec7792b32fe949dc486f76d9d0afd77b95445a288bd90a84b1c74d8c8264b"
   }
  }
 },
 "nbformat": 4,
 "nbformat_minor": 2
}
